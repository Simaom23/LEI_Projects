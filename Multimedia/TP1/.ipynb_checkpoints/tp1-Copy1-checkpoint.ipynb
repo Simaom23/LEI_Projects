{
 "cells": [
  {
   "cell_type": "markdown",
   "id": "82a744af",
   "metadata": {},
   "source": [
    "# Compressão de Imagem - JPEG  "
   ]
  },
  {
   "cell_type": "markdown",
   "id": "fa0ca7a4",
   "metadata": {},
   "source": [
    "### 1. Compressão de imagens bmp no formato jpeg"
   ]
  },
  {
   "cell_type": "markdown",
   "id": "04742ba1",
   "metadata": {},
   "source": [
    "1. Comprima as imagens fornecidas segundo o codec JPEG, com qualidade alta.\n",
    "2. Comprima as imagens fornecidas segundo o codec JPEG, com qualidade média.\n",
    "3. Comprima as imagens fornecidas segundo o codec JPEG, com qualidade baixa.\n",
    "\n",
    "<div align=center\">\n",
    "\n",
    "| Original | Alta(75) | Média(50) |  Baixa(25)  |\n",
    "| --- | --- | --- | --- |\n",
    "| <img src=\"imagens/logo.bmp\" /> | <img src=\"imagens/logo-high.jpg\" /> | <img src=\"imagens/logo-medium.jpg\" /> | <img src=\"imagens/logo-low.jpg\" /> |\n",
    "| 412Kb | 8Kb | 7Kb | 6Kb |\n",
    "| <img src=\"imagens/peppers.bmp\" /> | <img src=\"imagens/peppers-high.jpg\" /> | <img src=\"imagens/peppers-medium.jpg\" /> | <img src=\"imagens/peppers-low.jpg\" /> |\n",
    "| 580Kb | 24Kb | 16Kb | 12Kb |\n",
    "| <img src=\"imagens/barn_mountains.bmp\" /> | <img src=\"imagens/barn_mountains-high.jpg\" /> | <img src=\"imagens/barn_mountains-medium.jpg\" /> | <img src=\"imagens/barn_mountains-low.jpg\" /> |\n",
    "| 352Kb | 28Kb | 20Kb | 12Kb |\n",
    "\n",
    "</div>\n",
    "\n",
    "4. **Compare os resultados e tire conclusões.**  \n",
    "    É possível observar, nas imagens acima, que a imagem logo nao contém muitas transições abruptas entre pixeis vizinhos, ou seja, não existe muitas frequências espaciais altas o que torna a compressão. Em relação às imagens mais realistas como a peppers ou a barn_mountains, é possivel observar que mesmo com compressão alta a distorção do logo é muito perceptivel, o que já acontece menos na peppers pois já tem uma maior transição abrupta nos pixeis e ainda menos na barn_mountains que existe muitas transições abruptas. Em termos de compressão e a perceção de distorção a barn_mountains vai ser melhor seguida da peppers e por fim do logo."
   ]
  },
  {
   "cell_type": "markdown",
   "id": "27ec531c",
   "metadata": {},
   "source": [
    "### 2. Crie duas funções, encoder e decoder, para encapsular as funções a desenvolver nas alíenas 3 a 9"
   ]
  },
  {
   "cell_type": "markdown",
   "id": "0d9815f8",
   "metadata": {},
   "source": [
    "### 3. Visualização de imagem representada pelo modelo de cor RGB"
   ]
  },
  {
   "cell_type": "markdown",
   "id": "10e81b46",
   "metadata": {},
   "source": [
    "1. Leia uma imagem .bmp, e.g., a imagem peppers.bmp.\n",
    "2. Crie uma função para implementar um colormap definido pelo utilizador.\n",
    "3. Crie uma função que permita visualizar a imagem com um dado colormap.\n",
    "4. Crie uma função para separar a imagem nos seus componentes RGB. Crie também a função inversa.\n",
    "5. Visualize a imagem e cada um dos canais RGB (com o colormap adequado).\n",
    "\n",
    "<div align=\"center\">\n",
    "\n",
    "| Red | Green  | Blue  |\n",
    "| --- | --- | --- |\n",
    "| <img src=\"rgbChannels/peppers-red.svg\" /> | <img src=\"rgbChannels/peppers-green.svg\" /> | <img src=\"rgbChannels/peppers-blue.svg\" /> |\n",
    "\n",
    "</div>"
   ]
  },
  {
   "cell_type": "markdown",
   "id": "37852723",
   "metadata": {},
   "source": [
    "### 4. Pré-processamento da imagem: padding"
   ]
  },
  {
   "cell_type": "markdown",
   "id": "1add8f03",
   "metadata": {},
   "source": [
    "1. Crie uma função para fazer padding da imagem. Caso a dimensão da imagem não seja múltipla de 16x16, faça padding da mesma, replicando a última linha e a última coluna em conformidade. Crie também a função inversa. Certifique-se de que recupera a imagem com a dimensão original, visualizando-a.\n",
    "\n",
    "<div align=\"center\">\n",
    "\n",
    "| Unpadded | Padded |\n",
    "| --- | --- |\n",
    "| <img src=\"paddingImages/barn_mountains-unpadded.svg\" /> | <img src=\"paddingImages/barn_mountains-padded.svg\" /> |\n",
    "| Shape - (297, 400, 3) | Shape - (304, 400, 3) |\n",
    "\n",
    "</div>"
   ]
  },
  {
   "cell_type": "markdown",
   "id": "0e4003c7",
   "metadata": {},
   "source": [
    "### 5. Conversão para o modelo cor YCbCr"
   ]
  },
  {
   "cell_type": "markdown",
   "id": "52551299",
   "metadata": {},
   "source": [
    "1. Crie uma função para converter a imagem do modelo de cor RGB para o modelo de cor YCbCr. Crie também a função inversa (conversão de YCbCr para RGB). Certifique-se de que consegue obter os valores originais de RGB (teste, por exemplo, com o pixel [0, 0]). Nota: na conversão inversa, garanta que R, G e B sejam número inteiros no intervalo {0, 1, …, 255}.\n",
    "2. Converta a imagem inicial para o modelo de cor YCbCr.\n",
    "3. Visualize cada um dos canais (com o colormap adequado)\n",
    "\n",
    "<div align=\"center\">\n",
    "\n",
    "| Y | Cb  | Cr  |\n",
    "| --- | --- | --- |\n",
    "| <img src=\"ycbcrChannels/peppers-Y.svg\" /> | <img src=\"ycbcrChannels/peppers-Cb.svg\" /> | <img src=\"ycbcrChannels/peppers-Cr.svg\" /> |\n",
    "\n",
    "| R | G  | B |\n",
    "| --- | --- | --- |\n",
    "| <img src=\"rgbChannels/peppers-red.svg\" /> | <img src=\"rgbChannels/peppers-green.svg\" /> | <img src=\"rgbChannels/peppers-blue.svg\" /> |\n",
    "\n",
    "</div>\n",
    "\n",
    "4. **Compare a imagem de Y com R, G e B e com Cb e Cr. Tire conclusões.**  \n",
    "    Na imagem RGB a luminância e o detalhe são distribuidos pelos três canais contendo muita informação redundante, quando é convertida para YCbCr passam a estar no canal Y. Comparando os dois esquemas podemos observar que o canal Y contem muita informação e detalhe e os canais da crominânica contêm pouca informação pois não existe tanta sensibilidade por parte do ser humano então aí teremos uma possibilidade de compressão desses canais."
   ]
  },
  {
   "cell_type": "markdown",
   "id": "d65e2d33",
   "metadata": {},
   "source": [
    "### 6. Sub-Amostragem"
   ]
  },
  {
   "cell_type": "markdown",
   "id": "720f000d",
   "metadata": {},
   "source": [
    "1. Crie uma função para sub-amostrar os canais Y, Cb, e Cr, segundo as possibilidades definidas pelo codec JPEG, a qual deve devolver Y_d, Cb_d e Cr_d. Crie também a função para efectuar a operação inversa, i.e., upsampling. Certifique-se de que consegue reconstruir com exactidão Y, Cb e Cr.\n",
    "2. Visualize os canais Y_d, Cb_d e Cr_d com downsampling 4:2:0. Apresente as dimensões das matrizes correspondentes.\n",
    "\n",
    "<div align=\"center\">\n",
    "<h4>4:2:0</h4>\n",
    "\n",
    "| Y | Cb  | Cr  |\n",
    "| --- | --- | --- |\n",
    "| <img src=\"downsampledImages/peppers-Ysub.svg\" /> | <img src=\"downsampledImages/peppers-Cbsub.svg\" /> | <img src=\"downsampledImages/peppers-Crsub.svg\" /> |\n",
    "| (384, 512) | (192, 256) | (192, 256) |\n",
    "\n",
    "<h4>4:2:2</h4>\n",
    "\n",
    "| Y | Cb  | Cr |\n",
    "| --- | --- | --- |\n",
    "| <img src=\"downsampledImages/peppers-Ysub.svg\" /> | <img src=\"downsampledImages/peppers-Cbsub2.svg\" /> | <img src=\"downsampledImages/peppers-Crsub2.svg\" /> |\n",
    "| (384, 512) | (192, 512) | (192, 512) |\n",
    "\n",
    "</div>\n",
    "\n",
    "3. **Apresente e analise a taxa de compressão alcançada para as variantes de downsampling 4:2:2 e 4:2:0 (taxa de compressão, destrutividade, etc.)**  \n",
    "    No downsampling 4:2:2 os canais da crominância, Cb e Cr, são amostrados a metade, ou seja, a resolução dos canais são reduzidos a metade o que traz uma taxa de compressão de 1/3 à imagem original. Já no downsampling 4:2:0 tanto a resolução horizontal como vertical são reduzidos a metade o que traz uma taxa de compressão de 1/2 em relação à imagem original. Neste passo já existiu uma grande compressão da imagem."
   ]
  },
  {
   "cell_type": "markdown",
   "id": "8417e7b1",
   "metadata": {},
   "source": [
    "### 7. Transformada de Coseno Discreta (DCT)"
   ]
  },
  {
   "cell_type": "markdown",
   "id": "fef650fb",
   "metadata": {},
   "source": [
    "#### 1. DCT nos canais completos\n",
    "1. Crie uma função para calcular a DCT de um canal completo. Utilize a função scipy.fftpack.dct. Crie também a função inversa (usando scipy.fftpack.idct). Certifique-se de que consegue obter os valores originais de Y_d, Cb_d e Cr_d. Nota: para uma matriz, X, com duas dimensões, deverá fazer: X_dct = dct(dct(X, norm=”ortho”).T, norm=”ortho”).T\n",
    "2. Aplique a função desenvolvida a Y_d, Cb_d, Cr_d e visualize as imagens obtidas(Y_dct, Cb_dct, Cr_dct). Sugestão: atendendo à gama ampla de valores da DCT, visualize as imagens usando uma transformação logarítmica, e.g., de acordo com o seguinte pseudo-código: imshow(log(abs(X) + 0.0001))\n",
    "\n",
    "<div align=\"center\">\n",
    "\n",
    "#### barn_mountains.bmp\n",
    "| Y - DCT log | Cb - DCT log | Cr - DCT log |\n",
    "| --- | --- | --- |\n",
    "| <img src=\"dctImages/barn_mountains-Ydct.svg\" /> | <img src=\"dctImages/barn_mountains-Cbdct.svg\" /> | <img src=\"dctImages/barn_mountains-Crdct.svg\" /> |\n",
    "\n",
    "</div>\n",
    "\n",
    "3. **Discuta os resultados obtidos em termos de potencial de compressão.**  \n",
    "    Nas imagens acima, é possível observar que as frequências espaciais mais baixas e mais importantes concentram-se todas no canto superior esquerdo, sendo que o resto são tudo frequências espaciais altas e são possiveis de as eliminar ou reduzir o número de bits para as representar.\n",
    "\n",
    "#### 2. DCT em blocos 8x8\n",
    "1. Usando as mesmas funções para cálculo da DCT, crie uma função que calcule a DCT de um canal completo em blocos BSxBS. Crie também a função inversa (IDCT BSxBS). Certifique-se de que consegue obter os valores originais de Y_d, Cb_d e Cr_d.\n",
    "2. Aplique a função desenvolvida (DCT) a Y_d, Cb_d, Cr_d com blocos 8x8 e visualize as imagens obtidas (Y_DCT8, Cb_DCT8, Cr_DCT8).\n",
    "\n",
    "<div align=\"center\">\n",
    "\n",
    "| Y_d | Cb_d  | Cr_d  |\n",
    "| --- | --- | --- |\n",
    "| <img src=\"dctblocksImages/barn_mountains-Ydct8x8.svg\" /> | <img src=\"dctblocksImages/barn_mountains-Cbdct8x8.svg\" /> | <img src=\"dctblocksImages/barn_mountains-Crdct8x8.svg\" /> |\n",
    "\n",
    "| Y_d Inv | Cb_d Inv  | Cr_d Inv |\n",
    "| --- | --- | --- |\n",
    "| <img src=\"dctblocksImages/barn_mountains-Ydct8x8inv.svg\" /> | <img src=\"dctblocksImages/barn_mountains-Cbdct8x8inv.svg\" /> | <img src=\"dctblocksImages/barn_mountains-Crdct8x8inv.svg\" /> |\n",
    "\n",
    "</div>\n",
    "\n",
    "3. **Compare os resultados obtidos com os resultados de 7.1.2 e discuta-os em termos de potencial de compressão.**  \n",
    "    Como podemos observar a imagem está dividida igualmente em blocos 8x8. Visualizando os resultados da DCT 8x8 notamos que aqui existe um enorme potencial de compressão pois, como em 7.1.2, as frequências altas encontram-se concentradas no canto superior esquerdo e ao representar a grande quantidade de frequêcias mais altas com uma qualidade mais reduzida (menos bits) será possível diminuir bastante o tamanho da imagem.\n",
    "\n",
    "#### 3. DCT em blocos 64x64.\n",
    "1. Repita 7.2.\n",
    "\n",
    "<div align=\"center\">\n",
    "\n",
    "| Y_d | Cb_d  | Cr_d  |\n",
    "| --- | --- | --- |\n",
    "| <img src=\"dctblocksImages/barn_mountains-Ydct64x64.svg\" /> | <img src=\"dctblocksImages/barn_mountains-Cbdct64x64.svg\" /> | <img src=\"dctblocksImages/barn_mountains-Crdct64x64.svg\" /> |\n",
    "\n",
    "</div>\n",
    "\n",
    "2. **Compare com os resultados anteriores e tire conclusões.**  \n",
    "    Com a DCT em blocos 64x64 é possivel visualizar que os blocos são demasiados grandes para apanhar as diferenças entre pixeis ou seja a compressão nao irá ser de tanta qualidade pois.\n",
    "    "
   ]
  },
  {
   "cell_type": "markdown",
   "id": "038994ff",
   "metadata": {},
   "source": [
    "### 8. Quantização"
   ]
  },
  {
   "cell_type": "markdown",
   "id": "237c49fb",
   "metadata": {},
   "source": [
    "1. Crie uma função para quantizar os coeficientes da DCT para cada bloco 8x8. Crie também a função inversa.\n",
    "2. Quantize os coeficientes da DCT, usando os seguintes factores de qualidade: 10, 25, 50, 75 e 100. Visualize as imagens obtidas.\n",
    "\n",
    "<div align=\"center\">\n",
    "\n",
    "|Y Channel | Cb Channel | Cr Channel |\n",
    "| ---  | --- | --- |\n",
    "| Muito Alta(100) | Muito Alta(100) | Muito Alta(100) |\n",
    "|  <img src=\"quantizationImages/Y_q100.svg\" /> | <img src=\"quantizationImages/Cb_q100.svg\" /> | <img src=\"quantizationImages/Cr_q100.svg\" /> |\n",
    "| Alta(75) | Alta(75) | Alta(75) |\n",
    "|  <img src=\"quantizationImages/Y_q75.svg\" /> | <img src=\"quantizationImages/Cb_q75.svg\" /> | <img src=\"quantizationImages/Cr_q75.svg\" /> |\n",
    "| Média(50) | Média(50) | Média(50) |\n",
    "|  <img src=\"quantizationImages/Y_q50.svg\" /> | <img src=\"quantizationImages/Cb_q50.svg\" /> | <img src=\"quantizationImages/Cr_q50.svg\" /> |\n",
    "| Baixa(25) | Baixa(25) | Baixa(25) |\n",
    "|  <img src=\"quantizationImages/Y_q25.svg\" /> | <img src=\"quantizationImages/Cb_q25.svg\" /> | <img src=\"quantizationImages/Cr_q25.svg\" /> |\n",
    "| Muito Baixa(10) | Muito Baixa(10) | Muito Baixa(10) | \n",
    "|  <img src=\"quantizationImages/Y_q10.svg\" /> | <img src=\"quantizationImages/Cb_q10.svg\" /> | <img src=\"quantizationImages/Cr_q10.svg\" /> |\n",
    "\n",
    "</div>\n",
    "\n",
    "3. **Compare os resultados obtidos com os vários factores de qualidade e discuta-os em termos de potencial de compressão**  \n",
    "    Com a quantização é possível observar a representação dos diferentes coeficientes representados com mais ou menos bits, dependendo da sua frequência espacial. Nas imagens acima consegue-se observar bem o efeitos que tem a quantização, pois em cada bloco 8x8 representa os coeficientes no canto superior esquerdo com mais informação enquanto no resto do bloco encontra-se a 0 ou perto disso.  \n",
    "    \n",
    "4. **Compare os resultados obtidos com os resultados da alínea 5 e tire conclusões.**"
   ]
  },
  {
   "cell_type": "markdown",
   "id": "916b18a3",
   "metadata": {},
   "source": [
    "### 9. Codificação DPCM dos coeficientes DC"
   ]
  },
  {
   "cell_type": "markdown",
   "id": "9320237f",
   "metadata": {},
   "source": [
    "1. Crie uma função para realizar a codificação dos coeficientes DC de cada bloco. Em cada bloco, substitua o valor DC pelo valor da diferença. Crie também a função inversa.\n",
    "2. Aplique a sua função aos valores da DCT quantizada.\n",
    "\n",
    "<div align=\"center\">\n",
    "\n",
    "|Y Channel | Cb Channel | Cr Channel |\n",
    "| ---  | --- | --- |\n",
    "| Muito Alta(100) | Muito Alta(100) | Muito Alta(100) |\n",
    "|  <img src=\"dpcmImages/Y_dpcm100.svg\" /> | <img src=\"dpcmImages/Cb_dpcm100.svg\" /> | <img src=\"dpcmImages/Cr_dpcm100.svg\" /> |\n",
    "| Alta(75) | Alta(75) | Alta(75) |\n",
    "|  <img src=\"dpcmImages/Y_dpcm75.svg\" /> | <img src=\"dpcmImages/Cb_dpcm75.svg\" /> | <img src=\"dpcmImages/Cr_dpcm75.svg\" /> |\n",
    "| Média(50) | Média(50) | Média(50) |\n",
    "|  <img src=\"dpcmImages/Y_dpcm50.svg\" /> | <img src=\"dpcmImages/Cb_dpcm50.svg\" /> | <img src=\"dpcmImages/Cr_dpcm50.svg\" /> |\n",
    "| Baixa(25) | Baixa(25) | Baixa(25) |\n",
    "|  <img src=\"dpcmImages/Y_dpcm25.svg\" /> | <img src=\"dpcmImages/Cb_dpcm25.svg\" /> | <img src=\"dpcmImages/Cr_dpcm25.svg\" /> |\n",
    "| Muito Baixa(10) | Muito Baixa(10) | Muito Baixa(10) | \n",
    "|  <img src=\"dpcmImages/Y_dpcm10.svg\" /> | <img src=\"dpcmImages/Cb_dpcm10.svg\" /> | <img src=\"dpcmImages/Cr_dpcm10.svg\" /> |\n",
    "\n",
    "</div>\n",
    "\n",
    "3. Analise os resultados e tire conclusões.  \n",
    "    Comparando as imagens da DPCM com as de quantização é possível observar a remoção das redundâncias, e assim é possivel ainda uma maior compressão."
   ]
  },
  {
   "cell_type": "markdown",
   "id": "c1147884",
   "metadata": {},
   "source": [
    "### 10. Codificação e descodificação end-to-end"
   ]
  },
  {
   "cell_type": "markdown",
   "id": "561c01fc",
   "metadata": {},
   "source": [
    "1. Codifique as imagens fornecidas com os seguintes parâmetros de qualidade: 10, 25, 50, 75 e 100\n",
    "2. **Visualize as imagens descodificadas. Visualize também a imagem das diferenças entre o canal Y de cada uma das imagens originais e da imagem descodificada respectiva para cada um dos factores de qualidade testados. Calcule as várias métricas de distorção (MSE, RMSE, SNR e PSNR) para cada uma das imagens e factores de qualidade. Tire conclusões.**\n",
    "\n",
    "<div align=\"center\">\n",
    "<h4>Imagens Descodificadas</h4>\n",
    "\n",
    "| Original | Original | Original |\n",
    "| --- | --- | --- | \n",
    "|<img src=\"imagens/logo.bmp\" />  | <img src=\"imagens/peppers.bmp\" />  | <img src=\"imagens/barn_mountains.bmp\" /> |\n",
    "| Muito Alta(100) | Muito Alta(100) | Muito Alta(100) |\n",
    "|  <img src=\"decompressedImages/logo-dec100.svg\" /> | <img src=\"decompressedImages/peppers-dec100.svg\" /> | <img src=\"decompressedImages/barn_mountains-dec100.svg\" /> |\n",
    "| Alta(75) | Alta(75) | Alta(75) |\n",
    "|  <img src=\"decompressedImages/logo-dec75.svg\" /> | <img src=\"decompressedImages/peppers-dec75.svg\" /> | <img src=\"decompressedImages/barn_mountains-dec75.svg\" /> |\n",
    "| Média(50) | Média(50) | Média(50) |\n",
    "|  <img src=\"decompressedImages/logo-dec50.svg\" /> | <img src=\"decompressedImages/peppers-dec50.svg\" /> | <img src=\"decompressedImages/barn_mountains-dec50.svg\" /> |\n",
    "| Baixa(25) | Baixa(25) | Baixa(25) |\n",
    "|  <img src=\"decompressedImages/logo-dec25.svg\" /> | <img src=\"decompressedImages/peppers-dec25.svg\" /> | <img src=\"decompressedImages/barn_mountains-dec25.svg\" /> |\n",
    "| Muito Baixa(10) | Muito Baixa(10) | Muito Baixa(10) | \n",
    "|  <img src=\"decompressedImages/logo-dec10.svg\" /> | <img src=\"decompressedImages/peppers-dec10.svg\" /> | <img src=\"decompressedImages/barn_mountains-dec10.svg\" /> |  \n",
    "</div>  \n",
    "\n",
    "Pelas imagens acima é possível observar que a imagem logo ganha distorção mesmo com qualidades altas o que já acontece menos na peppers e ainda menos na barn mountains. Penso que a qualidade ideal para usar o jpeg seria a 75, dependendo da imagem, visto que para qualidades mais inferiores a imagem começa a ganhar uma distorção já muito visível ao olho humano.\n",
    "\n",
    "\n",
    "<div align=\"center\">\n",
    "<h4>Diferenças do Canal Y</h4>\n",
    "\n",
    "| Diff(100) | Diff(100) | Diff(100) |\n",
    "| --- | --- | --- |\n",
    "|  <img src=\"yDiff/logo-diff100.svg\" /> | <img src=\"yDiff/peppers-diff100.svg\" /> | <img src=\"yDiff/barn_mountains-diff100.svg\" /> |\n",
    "| Diff(75) | Diff(75) | Diff(75) |\n",
    "|  <img src=\"yDiff/logo-diff75.svg\" /> | <img src=\"yDiff/peppers-diff75.svg\" /> | <img src=\"yDiff/barn_mountains-diff75.svg\" /> |\n",
    "| Diff(50) | Diff(50) | Diff(50) |\n",
    "|  <img src=\"yDiff/logo-diff50.svg\" /> | <img src=\"yDiff/peppers-diff50.svg\" /> | <img src=\"yDiff/barn_mountains-diff50.svg\" /> |\n",
    "| Diff(25) | Diff(25) | Diff(25) |\n",
    "|  <img src=\"yDiff/logo-diff25.svg\" /> | <img src=\"yDiff/peppers-diff25.svg\" /> | <img src=\"yDiff/barn_mountains-diff25.svg\" /> |\n",
    "| Diff(10) | Diff(10) | Diff(10) |\n",
    "|  <img src=\"yDiff/logo-diff10.svg\" /> | <img src=\"yDiff/peppers-diff10.svg\" /> | <img src=\"yDiff/barn_mountains-diff10.svg\" /> |\n",
    "</div>  \n",
    "\n",
    "Na diferença entre canal Y das imagens originais e descodificadas, conseguimos observar que o logo perde logo bastante informação visível enquanto o logo e barn mountais com qualidade 100, a diferença é apenas ruído que não é visivel pelo ser humano e a partir da qualidade 75 para baixo começa a perder-se informação mais sensível ao ser humano, sendo que a diferença já mostra elementos das diferentes imagens.\n",
    "  \n",
    "<div align=\"center\">\n",
    "<h4>Logo Distortion</h4>\n",
    "\n",
    "| Distortion Calculation | CompressionRate(10) | CompressionRate(25) | CompressionRate(50) | CompressionRate(75) | CompressionRate(100) |\n",
    "| --- | --- | --- | --- | --- | --- |\n",
    "| MSE | 100.3356512455516 | 96.39738078291815 | 84.93334519572954 | 62.13719572953737 | 43.08691103202847 |\n",
    "| RMSE | 10.016768503142698 | 9.818216782232819 | 9.215928884042539 | 7.882714997355757 | 6.564062083194252 |\n",
    "| SNR | 31.317565894823957 | 31.491466295313742 | 32.04133633761491 | 33.398602138420934 | 34.98866503407382 |\n",
    "| PSNR | 28.116250869884986 | 28.290151270374764 | 28.840021312675933 | 30.197287113481963 | 31.78735000913484 |\n",
    "\n",
    "\n",
    "<h4>Peppers Distortion</h4>\n",
    "\n",
    "| Distortion Calculation | CompressionRate(10) | CompressionRate(25) | CompressionRate(50) | CompressionRate(75) | CompressionRate(100) |\n",
    "| --- | --- | --- | --- | --- | --- |\n",
    "| MSE | 177.6107635498047 | 161.6694132486979 | 133.53300984700522 | 104.56081644694011 | 62.27788289388021 |\n",
    "| RMSE | 13.32706882813339 | 12.714928755156196 | 11.55564839578486 | 10.225498347119329 | 7.891633727808217 |\n",
    "| SNR | 22.431259359027575 | 22.839673550923116 | 23.670065790615137 | 24.732262515068832 | 26.982613766949445 |\n",
    "| PSNR | 25.636110795568612 | 26.04452498746415 | 26.87491722715617 | 27.937113951609874 | 30.18746520349049 |\n",
    "\n",
    "\n",
    "<h4>Barn Mountains Distortion</h4>\n",
    "\n",
    "| Distortion Calculation | CompressionRate(10) | CompressionRate(25) | CompressionRate(50) | CompressionRate(75) | CompressionRate(100) |\n",
    "| --- | --- | --- | --- | --- | --- |\n",
    "| MSE | 406.7184848484848 | 369.03262626262625 |  293.16542087542086 | 187.50007575757576 | 55.53707912457912 |\n",
    "| RMSE | 20.167262700934028 | 19.21022192122273 |  17.122074082173015 | 13.693066703904416 | 7.4523203852611655 |\n",
    "| SNR | 21.0933366982159 | 21.515628168825938 |  22.515148372520578 | 24.45626133281708 | 29.740445457608157|\n",
    "| PSNR | 22.037864498715727 | 22.46015596932576 |  23.459676173020398 | 25.400789133316902 | 30.68497325810798 |\n",
    "</div>\n",
    "\n",
    "\n",
    "3. Volte a analisar o ponto 1, de forma a validar/complementar as conclusões tiradas nesse ponto."
   ]
  }
 ],
 "metadata": {
  "kernelspec": {
   "display_name": "Python 3 (ipykernel)",
   "language": "python",
   "name": "python3"
  },
  "language_info": {
   "codemirror_mode": {
    "name": "ipython",
    "version": 3
   },
   "file_extension": ".py",
   "mimetype": "text/x-python",
   "name": "python",
   "nbconvert_exporter": "python",
   "pygments_lexer": "ipython3",
   "version": "3.10.2"
  }
 },
 "nbformat": 4,
 "nbformat_minor": 5
}
